{
 "cells": [
  {
   "cell_type": "markdown",
   "metadata": {},
   "source": [
    "# Special Times\n",
    "Sometimes you look at your phone and see something like \"12:12\" and think \"Wow, what are the chances of looking at such a specific time?\". Well today we are going to answer that question!\n",
    "\n"
   ]
  },
  {
   "cell_type": "code",
   "execution_count": null,
   "metadata": {},
   "outputs": [],
   "source": [
    "import pandas as pd\n",
    "\n",
    "from special_time_generators import get_all_special_times, generate_all_times"
   ]
  },
  {
   "cell_type": "code",
   "execution_count": null,
   "metadata": {},
   "outputs": [],
   "source": [
    "special_times_df = get_all_special_times()\n",
    "\n",
    "# show all special times in a conventional time format\n",
    "for index, row in special_times_df.iterrows():\n",
    "    print(f'{row[\"ten_hours\"]}{row[\"hours\"]}:{row[\"ten_minutes\"]}{row[\"minutes\"]}')"
   ]
  },
  {
   "cell_type": "code",
   "execution_count": null,
   "metadata": {},
   "outputs": [],
   "source": [
    "# proportion of times that are special\n",
    "len(special_times_df) / (24 * 60)"
   ]
  }
 ],
 "metadata": {
  "interpreter": {
   "hash": "1a738a130101f44cfe7c2a73fd849071f128e1e51795d3ecab2be7dcd6f462d8"
  },
  "kernelspec": {
   "display_name": "Python 3.8.9 ('venv': venv)",
   "language": "python",
   "name": "python3"
  },
  "language_info": {
   "codemirror_mode": {
    "name": "ipython",
    "version": 3
   },
   "file_extension": ".py",
   "mimetype": "text/x-python",
   "name": "python",
   "nbconvert_exporter": "python",
   "pygments_lexer": "ipython3",
   "version": "3.8.9"
  },
  "orig_nbformat": 4
 },
 "nbformat": 4,
 "nbformat_minor": 2
}
