{
 "cells": [
  {
   "cell_type": "code",
   "execution_count": 64,
   "metadata": {
    "scrolled": true
   },
   "outputs": [
    {
     "name": "stdout",
     "output_type": "stream",
     "text": [
      "472 ms ± 67.8 ms per loop (mean ± std. dev. of 7 runs, 1 loop each)\n"
     ]
    }
   ],
   "source": [
    "%%timeit\n",
    "#dataframe method\n",
    "import pandas as pd\n",
    "\n",
    "#import the words and turn it into a dataframe\n",
    "words = pd.read_csv(\"C:/Users/lroldanwaa001/Desktop/Data Analytics/longest 7 cell display word/words.txt\",  sep=',')\n",
    "\n",
    "#create forbidden signs\n",
    "forbidden = ['k', 'm', 's', 'v', 'w', 'x', 'y', 'z', 'ethane', 'amine', 'ical', 'phic', 'tion', 'ing']\n",
    "longestword = \" \"\n",
    "\n",
    "#go through each word and check if it is longer and if it contains any forbidden characters\n",
    "cont = words['a'].str.contains('|'.join(forbidden))\n",
    "cont = [not c for c in cont]\n",
    "words = words[cont]\n",
    "words['word length'] = words['a'].str.len()\n",
    "words.sort_values(by = 'word length', axis = 0, ascending = False, inplace = True)\n"
   ]
  },
  {
   "cell_type": "code",
   "execution_count": 55,
   "metadata": {
    "scrolled": true
   },
   "outputs": [
    {
     "name": "stdout",
     "output_type": "stream",
     "text": [
      "1.13 s ± 156 ms per loop (mean ± std. dev. of 7 runs, 1 loop each)\n"
     ]
    }
   ],
   "source": [
    "%%timeit\n",
    "###Backup list method\n",
    "# -*- coding: utf-8 -*-\n",
    "\"\"\"\n",
    "Created on Tue Oct 16 11:29:11 2018\n",
    "\n",
    "@author: lroldanwaa001\n",
    "\"\"\"\n",
    "import pandas as pd\n",
    "\n",
    "#import the words and turn it into a dataframe\n",
    "words = list(pd.read_csv(\"C:/Users/lroldanwaa001/Desktop/Data Analytics/longest 7 cell display word/words.txt\",  sep=',')['a'])\n",
    "\n",
    "#create forbidden signs\n",
    "forbidden = ['k', 'm', 's', 'v', 'w', 'x', 'y', 'z', 'ethane', 'amine', 'ical', 'phic', 'tion', 'ing']\n",
    "allowedwords = []\n",
    "\n",
    "#go through each word and check if it is longer and if it contains any forbidden characters\n",
    "for x in words:\n",
    "    if any(elem in str(x) for elem in forbidden):\n",
    "        continue\n",
    "    else:\n",
    "        allowedwords.insert(0, x)\n",
    "    \n",
    "df = pd.DataFrame(data={'words': allowedwords})   \n",
    "df['word length'] = df['words'].str.len()\n",
    "df.sort_values(by = 'word length', axis = 0, ascending = False, inplace = True)\n",
    "\n"
   ]
  },
  {
   "cell_type": "code",
   "execution_count": 76,
   "metadata": {},
   "outputs": [
    {
     "name": "stdout",
     "output_type": "stream",
     "text": [
      "196 ms ± 4.27 ms per loop (mean ± std. dev. of 7 runs, 1 loop each)\n"
     ]
    }
   ],
   "source": [
    "%%timeit\n",
    "import pandas as pd\n",
    "\n",
    "#import the words and turn it into a dataframe\n",
    "words = list(pd.read_csv(\"C:/Users/lroldanwaa001/Desktop/Data Analytics/longest 7 cell display word/words.txt\",  sep=',')['a'])\n",
    "\n",
    "#create forbidden signs\n",
    "forbidden = ['k', 'm', 's', 'v', 'w', 'x', 'y', 'z', 'ethane', 'amine', 'ical', 'phic', 'tion', 'ing']\n",
    "longestword = \" \"\n",
    "\n",
    "#go through each word and check if it is longer and if it contains any forbidden characters\n",
    "for x in words:\n",
    "    if len(longestword) < len(str(x)):\n",
    "        if any(elem in str(x) for elem in forbidden):\n",
    "            continue\n",
    "        else: \n",
    "            longestword = str(x)\n",
    "    else:\n",
    "        continue\n"
   ]
  },
  {
   "cell_type": "code",
   "execution_count": null,
   "metadata": {},
   "outputs": [],
   "source": [
    "\"\"\"\n",
    "list method (only longest word)\n",
    "192 ms ± 3.77 ms per loop (mean ± std. dev. of 7 runs, 1 loop each)\n",
    "191 ms ± 2.76 ms per loop (mean ± std. dev. of 7 runs, 1 loop each)\n",
    "195 ms ± 3.96 ms per loop (mean ± std. dev. of 7 runs, 1 loop each)\n",
    "212 ms ± 28.6 ms per loop (mean ± std. dev. of 7 runs, 1 loop each)\n",
    "196 ms ± 4.27 ms per loop (mean ± std. dev. of 7 runs, 1 loop each)\n",
    "\n",
    "list method (only top words): \n",
    "299 ms ± 10.7 ms per loop (mean ± std. dev. of 7 runs, 1 loop each)\n",
    "284 ms ± 4.19 ms per loop (mean ± std. dev. of 7 runs, 1 loop each)\n",
    "336 ms ± 105 ms per loop (mean ± std. dev. of 7 runs, 1 loop each)\n",
    "310 ms ± 26.1 ms per loop (mean ± std. dev. of 7 runs, 1 loop each)\n",
    "290 ms ± 6.26 ms per loop (mean ± std. dev. of 7 runs, 1 loop each)\n",
    "\n",
    "dataframe method: \n",
    "497 ms ± 56.9 ms per loop (mean ± std. dev. of 7 runs, 1 loop each)\n",
    "458 ms ± 63 ms per loop (mean ± std. dev. of 7 runs, 1 loop each)\n",
    "479 ms ± 66.8 ms per loop (mean ± std. dev. of 7 runs, 1 loop each)\n",
    "401 ms ± 5.11 ms per loop (mean ± std. dev. of 7 runs, 1 loop each)\n",
    "417 ms ± 13.6 ms per loop (mean ± std. dev. of 7 runs, 1 loop each)\n",
    "\n",
    "list method (all words)\n",
    "1.22 s ± 161 ms per loop (mean ± std. dev. of 7 runs, 1 loop each)\n",
    "1.04 s ± 12 ms per loop (mean ± std. dev. of 7 runs, 1 loop each)\n",
    "1.22 s ± 191 ms per loop (mean ± std. dev. of 7 runs, 1 loop each)\n",
    "1.08 s ± 141 ms per loop (mean ± std. dev. of 7 runs, 1 loop each)\n",
    "1.13 s ± 156 ms per loop (mean ± std. dev. of 7 runs, 1 loop each)\n",
    "\"\"\""
   ]
  }
 ],
 "metadata": {
  "kernelspec": {
   "display_name": "Python 3",
   "language": "python",
   "name": "python3"
  },
  "language_info": {
   "codemirror_mode": {
    "name": "ipython",
    "version": 3
   },
   "file_extension": ".py",
   "mimetype": "text/x-python",
   "name": "python",
   "nbconvert_exporter": "python",
   "pygments_lexer": "ipython3",
   "version": "3.6.5"
  }
 },
 "nbformat": 4,
 "nbformat_minor": 2
}
